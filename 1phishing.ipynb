{
 "cells": [
  {
   "cell_type": "code",
   "execution_count": 194,
   "metadata": {},
   "outputs": [],
   "source": []
  },
  {
   "cell_type": "code",
   "execution_count": 199,
   "metadata": {},
   "outputs": [
    {
     "name": "stdout",
     "output_type": "stream",
     "text": [
      "   SFH  popUpWidnow   SSLfinal_State   Request_URL   URL_of_Anchor  \\\n",
      "0    1            -1               1            -1              -1   \n",
      "1   -1            -1              -1            -1              -1   \n",
      "2    1            -1               0             0              -1   \n",
      "3    1             0               1            -1              -1   \n",
      "4   -1            -1               1            -1               0   \n",
      "\n",
      "    web_traffic  URL_Length  age_of_domain  having_IP_Address  Result  \n",
      "0             1           1              1                  0       0  \n",
      "1             0           1              1                  1       1  \n",
      "2             0          -1              1                  0       1  \n",
      "3             0           1              1                  0       0  \n",
      "4             0          -1              1                  0       1  \n"
     ]
    }
   ],
   "source": [
    "import pandas as pd\n",
    "pima = pd.read_csv(\"io1.csv\")\n",
    "\n",
    "#data = arff.loadarff('4.doc')\n",
    "#df = pd.DataFrame(data[0])\n",
    "\n",
    "print(pima.head())"
   ]
  },
  {
   "cell_type": "code",
   "execution_count": 185,
   "metadata": {},
   "outputs": [],
   "source": [
    "feature_s=['SFH','popUpWidnow ','SSLfinal_State',' Request_URL',' URL_of_Anchor',' web_traffic','URL_Length','age_of_domain','having_IP_Address'] \n",
    "X=pima[feature_s]\n",
    "y=pima['Result']\n"
   ]
  },
  {
   "cell_type": "code",
   "execution_count": 177,
   "metadata": {},
   "outputs": [
    {
     "name": "stdout",
     "output_type": "stream",
     "text": [
      "      SFH  popUpWidnow   SSLfinal_State   Request_URL   URL_of_Anchor  \\\n",
      "981     1             0              -1            -1              -1   \n",
      "1015   -1            -1              -1            -1              -1   \n",
      "16     -1             0               0             0              -1   \n",
      "1128    1             1              -1             1               1   \n",
      "569    -1            -1              -1             0              -1   \n",
      "1268    1             1               1            -1               1   \n",
      "901    -1            -1               1            -1              -1   \n",
      "642     1             1               1            -1               1   \n",
      "984    -1             1               1             0               0   \n",
      "351     1            -1               1             1               1   \n",
      "\n",
      "       web_traffic  URL_Length  age_of_domain  having_IP_Address  \n",
      "981              0           0             -1                  0  \n",
      "1015             0           0             -1                  0  \n",
      "16               1          -1             -1                  0  \n",
      "1128            -1           0              1                  0  \n",
      "569             -1           1              1                  0  \n",
      "1268             0          -1              1                  0  \n",
      "901             -1           1              1                  0  \n",
      "642             -1           1              1                  0  \n",
      "984             -1           0              1                  0  \n",
      "351              0           0              1                  0  \n"
     ]
    }
   ],
   "source": [
    "from sklearn.model_selection import train_test_split\n",
    "X_train,X_test,y_train,y_test=train_test_split(X,y,test_size=0.30,random_state=0)\n",
    "print(X_train[:10])"
   ]
  },
  {
   "cell_type": "code",
   "execution_count": 180,
   "metadata": {},
   "outputs": [
    {
     "name": "stdout",
     "output_type": "stream",
     "text": [
      "Empty DataFrame\n",
      "Columns: [SFH, popUpWidnow , SSLfinal_State,  Request_URL,  URL_of_Anchor,  web_traffic, URL_Length, age_of_domain, having_IP_Address]\n",
      "Index: []\n"
     ]
    },
    {
     "name": "stderr",
     "output_type": "stream",
     "text": [
      "C:\\Users\\ani\\Anaconda3\\lib\\site-packages\\sklearn\\linear_model\\logistic.py:433: FutureWarning: Default solver will be changed to 'lbfgs' in 0.22. Specify a solver to silence this warning.\n",
      "  FutureWarning)\n",
      "C:\\Users\\ani\\Anaconda3\\lib\\site-packages\\sklearn\\linear_model\\logistic.py:460: FutureWarning: Default multi_class will be changed to 'auto' in 0.22. Specify the multi_class option to silence this warning.\n",
      "  \"this warning.\", FutureWarning)\n"
     ]
    }
   ],
   "source": [
    "from sklearn.linear_model import LogisticRegression\n",
    "from sklearn.preprocessing import LabelEncoder\n",
    "\n",
    "print(X_train[X_train.isnull().any(axis=1)])\n",
    "# instantiate the model (using the default parameters)\n",
    "logisticRegr = LogisticRegression()\n",
    "\n",
    "#print(X_train[:10])\n",
    "#le = LabelEncoder()\n",
    "#print(X_train['SFH'])\n",
    "#X_train['SFH'] = (X_train['SFH'].astype(float))\n",
    "#x_train = le.fit_transform(X_train)\n",
    "# X_train['bp'] = (X_train['bp'].astype(float))\n",
    "# X_train['bmi'] = le.fit_transform(X_train['bmi'])\n",
    "# X_train['insulin'] = le.fit_transform(X_train['insulin'])\n",
    "# X_train['pregnant'] = le.fit_transform(X_train['pregnant'])\n",
    "# # X_train['age'] = (X_train['age'].astype(float))\n",
    "# X_train['glucose'] = le.fit_transform(X_train['glucose'])\n",
    "# X_train['age'] = le.fit_transform(X_train['age'])\n",
    "# # gluc = (X_train.loc[:,'glucose'])\n",
    "# # print(type(gluc))\n",
    "# # print(gluc)\n",
    "# # print(float(gluc))\n",
    "# # X_train['glucose'] = (X_train['glucose'].str.strip().astype(float))\n",
    "\n",
    "\n",
    "logisticRegr.fit(X_train, y_train)\n",
    "\n",
    "y_pred=logisticRegr.predict(X_test)"
   ]
  },
  {
   "cell_type": "code",
   "execution_count": 181,
   "metadata": {},
   "outputs": [
    {
     "name": "stdout",
     "output_type": "stream",
     "text": [
      "[[174   1  29]\n",
      " [ 17   1  15]\n",
      " [ 24   0 145]]\n"
     ]
    }
   ],
   "source": [
    "from sklearn import metrics\n",
    "cnf_matrix = metrics.confusion_matrix(y_test, y_pred)\n",
    "print(cnf_matrix)"
   ]
  },
  {
   "cell_type": "code",
   "execution_count": 182,
   "metadata": {},
   "outputs": [],
   "source": [
    "import numpy as np\n",
    "import matplotlib.pyplot as plt\n",
    "import seaborn as sns\n",
    "%matplotlib inline"
   ]
  },
  {
   "cell_type": "code",
   "execution_count": 183,
   "metadata": {},
   "outputs": [
    {
     "data": {
      "text/plain": [
       "Text(0.5, 257.44, 'Predicted label')"
      ]
     },
     "execution_count": 183,
     "metadata": {},
     "output_type": "execute_result"
    },
    {
     "data": {
      "image/png": "[encoded data removed]",
      "text/plain": [
       "<Figure size 432x288 with 2 Axes>"
      ]
     },
     "metadata": {
      "needs_background": "light"
     },
     "output_type": "display_data"
    }
   ],
   "source": [
    "class_names=[0,1] # name  of classes\n",
    "fig, ax = plt.subplots()\n",
    "tick_marks = np.arange(len(class_names))\n",
    "plt.xticks(tick_marks, class_names)\n",
    "plt.yticks(tick_marks, class_names)\n",
    "# create heatmap\n",
    "sns.heatmap(pd.DataFrame(cnf_matrix), annot=True, cmap=\"YlGnBu\" ,fmt='g')\n",
    "ax.xaxis.set_label_position(\"top\")\n",
    "plt.tight_layout()\n",
    "plt.title('Confusion matrix', y=1.1)\n",
    "plt.ylabel('Actual label')\n",
    "plt.xlabel('Predicted label')"
   ]
  },
  {
   "cell_type": "code",
   "execution_count": null,
   "metadata": {},
   "outputs": [],
   "source": []
  },
  {
   "cell_type": "code",
   "execution_count": null,
   "metadata": {},
   "outputs": [],
   "source": []
  },
  {
   "cell_type": "code",
   "execution_count": null,
   "metadata": {},
   "outputs": [],
   "source": []
  }
 ],
 "metadata": {
  "kernelspec": {
   "display_name": "Python 3",
   "language": "python",
   "name": "python3"
  },
  "language_info": {
   "codemirror_mode": {
    "name": "ipython",
    "version": 3
   },
   "file_extension": ".py",
   "mimetype": "text/x-python",
   "name": "python",
   "nbconvert_exporter": "python",
   "pygments_lexer": "ipython3",
   "version": "3.7.3"
  }
 },
 "nbformat": 4,
 "nbformat_minor": 2
}
